{
 "cells": [
  {
   "cell_type": "code",
   "execution_count": null,
   "id": "eba77e73",
   "metadata": {},
   "outputs": [],
   "source": [
    "1. Write a Python program to find words which are greater than given length k?"
   ]
  },
  {
   "cell_type": "code",
   "execution_count": 6,
   "id": "f29a66d0",
   "metadata": {},
   "outputs": [
    {
     "name": "stdout",
     "output_type": "stream",
     "text": [
      "Enter the string : Python is a high-level, interpreted, general-purpose programming language. \n",
      "Enter k  (value for accepting string) : 8\n",
      "All words which are greater than given length  8 are  ['high-level,', 'interpreted,', 'general-purpose', 'programming', 'language.']\n"
     ]
    }
   ],
   "source": [
    "\n",
    "# Getting input from user \n",
    "myStr =  input('Enter the string : ')\n",
    "k = int(input('Enter k  (value for accepting string) : '))\n",
    "largerStrings = []\n",
    "\n",
    "# Finding words with length greater than k\n",
    "words = myStr.split(\" \")\n",
    "for word in words:\n",
    "    if len(word) > k:\n",
    "        largerStrings.append(word)\n",
    "        \n",
    "# printing values\n",
    "print(\"All words which are greater than \n",
    "      given length \", k, \"are \", largerStrings)"
   ]
  },
  {
   "cell_type": "code",
   "execution_count": null,
   "id": "de1a5368",
   "metadata": {},
   "outputs": [],
   "source": [
    "2. Write a Python program for removing i-th character from a string?"
   ]
  },
  {
   "cell_type": "code",
   "execution_count": 7,
   "id": "b0387ffd",
   "metadata": {},
   "outputs": [
    {
     "name": "stdout",
     "output_type": "stream",
     "text": [
      "original:  Python\n",
      "After removing:  Pyton\n"
     ]
    }
   ],
   "source": [
    "string=\"Python\"\n",
    "i=4\n",
    "print(\"original: \",string)\n",
    "# Initialise new string\n",
    "new_s= \"\"\n",
    "# Removing character\n",
    "for k in range(len(string)):\n",
    "    if k!=i-1:\n",
    "        new_s=new_s+string[k]\n",
    "\n",
    "# After removal of character\n",
    "print(\"After removing: \",new_s)"
   ]
  },
  {
   "cell_type": "code",
   "execution_count": null,
   "id": "37b412a1",
   "metadata": {},
   "outputs": [],
   "source": [
    "3. Write a Python program to split and join a string?"
   ]
  },
  {
   "cell_type": "code",
   "execution_count": 1,
   "id": "9e83ad36",
   "metadata": {},
   "outputs": [
    {
     "name": "stdout",
     "output_type": "stream",
     "text": [
      "Please enter a string: python is very popular language\n",
      "['python', 'is', 'very', 'popular', 'language']\n",
      "python-is-very-popular-language\n"
     ]
    }
   ],
   "source": [
    "# input string\n",
    "s = input(\"Please enter a string: \")\n",
    "# print the string after split method\n",
    "print(s.split(\" \"))\n",
    "# print the string after join method\n",
    "print(\"-\".join(s.split()))"
   ]
  },
  {
   "cell_type": "code",
   "execution_count": null,
   "id": "e7a91f7f",
   "metadata": {},
   "outputs": [],
   "source": [
    "4. Write a Python to check if a given string is binary string or not?"
   ]
  },
  {
   "cell_type": "code",
   "execution_count": 10,
   "id": "eaa5f248",
   "metadata": {},
   "outputs": [
    {
     "name": "stdout",
     "output_type": "stream",
     "text": [
      "Please enter a string: hiiiiiiiiiii\n",
      "No\n"
     ]
    }
   ],
   "source": [
    "def check(string):\n",
    "    p = set(string)\n",
    " \n",
    "    # declare set of '0', '1' .\n",
    "    s = {'0', '1'}\n",
    "    if s == p or p == {'0'} or p == {'1'}:\n",
    "        print(\"Yes\")\n",
    "    else:\n",
    "        print(\"No\")\n",
    " \n",
    " \n",
    "# driver code\n",
    "if __name__ == \"__main__\":\n",
    " \n",
    "    string = input(\"Please enter a string: \")\n",
    " \n",
    "    # function calling\n",
    "    check(string)"
   ]
  },
  {
   "cell_type": "code",
   "execution_count": null,
   "id": "534bfd2e",
   "metadata": {},
   "outputs": [],
   "source": [
    "5. Write a Python program to find uncommon words from two Strings?"
   ]
  },
  {
   "cell_type": "code",
   "execution_count": 1,
   "id": "8c1344f0",
   "metadata": {},
   "outputs": [
    {
     "name": "stdout",
     "output_type": "stream",
     "text": [
      "Enter first string : learn python programming language\n",
      "Enter second string : learn programming at ineuron\n",
      "All uncommon words from both the string are   python language at ineuron\n"
     ]
    }
   ],
   "source": [
    "# Getting strings as input from the user \n",
    "str1 = input('Enter first string : ')\n",
    "str2 = input('Enter second string : ')\n",
    "\n",
    "# finding uncommon words\n",
    "str1List = str1.split()\n",
    "str2List = str2.split()\n",
    "uncommonWords = ''\n",
    "for words in str1List:\n",
    "    if words not in str2List:\n",
    "        uncommonWords = uncommonWords+\" \"+words\n",
    "for words in str2List:\n",
    "   if words not in str1List:\n",
    "        uncommonWords = uncommonWords+\" \"+words\n",
    "#printing uncommon words \n",
    "print(\"All uncommon words from both the string are \", uncommonWords)"
   ]
  },
  {
   "cell_type": "code",
   "execution_count": null,
   "id": "dcec53d0",
   "metadata": {},
   "outputs": [],
   "source": [
    "6. Write a Python to find all duplicate characters in string?"
   ]
  },
  {
   "cell_type": "code",
   "execution_count": 12,
   "id": "c0d0c28a",
   "metadata": {},
   "outputs": [
    {
     "name": "stdout",
     "output_type": "stream",
     "text": [
      "Please enter a string: INDIA is independent Country\n",
      "Duplicate characters in a given string: \n",
      "I\n",
      "i\n",
      "n\n",
      "d\n",
      "e\n",
      "t\n"
     ]
    }
   ],
   "source": [
    "string = input(\"Please enter a string: \")\n",
    "\n",
    "print(\"Duplicate characters in a given string: \");  \n",
    "#Counts each character present in the string  \n",
    "for i in range(0, len(string)):  \n",
    "    count = 1;  \n",
    "    for j in range(i+1, len(string)):  \n",
    "        if(string[i] == string[j] and string[i] != ' '):  \n",
    "            count = count + 1;  \n",
    "            #Set string[j] to 0 to avoid printing visited character  \n",
    "            string = string[:j] + '0' + string[j+1:];  \n",
    "   \n",
    "    #A character is considered as duplicate if count is greater than 1  \n",
    "    if(count > 1 and string[i] != '0'):  \n",
    "        print(string[i]);  "
   ]
  },
  {
   "cell_type": "code",
   "execution_count": null,
   "id": "5b4173b8",
   "metadata": {},
   "outputs": [],
   "source": [
    "7. Write a Python Program to check if a string contains any special character?"
   ]
  },
  {
   "cell_type": "code",
   "execution_count": 11,
   "id": "be61f3cb",
   "metadata": {},
   "outputs": [
    {
     "name": "stdout",
     "output_type": "stream",
     "text": [
      "Please enter a string: how are you?\n",
      "yes\n"
     ]
    }
   ],
   "source": [
    "special_characters = \"#!@$%^&*()-+?_=,<>/\"\n",
    "s = input(\"Please enter a string: \")\n",
    "\n",
    "if any(c in special_characters for c in s):\n",
    "    print(\"yes\")\n",
    "else:\n",
    "    print(\"no\")\n",
    " "
   ]
  },
  {
   "cell_type": "code",
   "execution_count": null,
   "id": "cb0a0a5e",
   "metadata": {},
   "outputs": [],
   "source": []
  }
 ],
 "metadata": {
  "kernelspec": {
   "display_name": "Python 3 (ipykernel)",
   "language": "python",
   "name": "python3"
  },
  "language_info": {
   "codemirror_mode": {
    "name": "ipython",
    "version": 3
   },
   "file_extension": ".py",
   "mimetype": "text/x-python",
   "name": "python",
   "nbconvert_exporter": "python",
   "pygments_lexer": "ipython3",
   "version": "3.9.7"
  }
 },
 "nbformat": 4,
 "nbformat_minor": 5
}
